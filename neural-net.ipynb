{
 "cells": [
  {
   "cell_type": "code",
   "execution_count": 113,
   "metadata": {
    "collapsed": true
   },
   "outputs": [],
   "source": [
    "# Package imports\n",
    "import matplotlib\n",
    "import matplotlib.pyplot as plt\n",
    "import sklearn\n",
    "import sklearn.datasets\n",
    "import pandas as pd\n",
    "import numpy as np\n",
    "from decimal import Decimal\n"
   ]
  },
  {
   "cell_type": "code",
   "execution_count": 144,
   "metadata": {},
   "outputs": [
    {
     "name": "stdout",
     "output_type": "stream",
     "text": [
      "len(X): 400\n",
      "len(X[0]): 2\n",
      "len(X[:,0]): 400\n",
      "X: nsamples = 400 , nattribs = 2\n"
     ]
    }
   ],
   "source": [
    "# set up training rate alpha\n",
    "alpha = 0.5\n",
    "\n",
    "# Use pandas to read the CSV file as a dataframe\n",
    "df = pd.read_csv(\"moons400.csv\")\n",
    "# The y values are those labelled 'Class': extract their values\n",
    "y = df['Class'].values\n",
    "\n",
    "# The x values are all other columns\n",
    "del df['Class']    # drop the 'Class' column from the dataframe\n",
    "X = df.as_matrix() # convert the remaining columns to a numpy array\n",
    "# Some examples of working with the data, to look at rows/columns\n",
    "print (\"len(X):\", len(X))            # outer array: one per sample\n",
    "print (\"len(X[0]):\", len(X[0]))      # each inner array is the attributes of one sample\n",
    "print (\"len(X[:,0]):\", len(X[:,0]))  # select column 0 from array\n",
    "\n",
    "# np.shape returns all dimensions of the array\n",
    "(nsamples, nattribs) = np.shape(X)\n",
    "print (\"X: nsamples =\", nsamples, \", nattribs =\", nattribs)"
   ]
  },
  {
   "cell_type": "code",
   "execution_count": 145,
   "metadata": {},
   "outputs": [
    {
     "name": "stdout",
     "output_type": "stream",
     "text": [
      "datasubset: dsamples = 1 , dattribs = 2\n",
      "[[ 2.07106946  0.41152931]]\n"
     ]
    }
   ],
   "source": [
    "datasubset_x = X[0:1]\n",
    "(dsamples, dattribs) = np.shape(datasubset_x)\n",
    "print(\"datasubset: dsamples =\", dsamples, \", dattribs =\", dattribs)\n",
    "print(datasubset_x)"
   ]
  },
  {
   "cell_type": "code",
   "execution_count": 146,
   "metadata": {},
   "outputs": [
    {
     "name": "stdout",
     "output_type": "stream",
     "text": [
      "[[ 2.07106946  0.41152931]]\n"
     ]
    }
   ],
   "source": [
    "inputs = datasubset_x\n",
    "# inputs[0,0] = 0.05\n",
    "# inputs[0,1] = 0.1\n",
    "print(inputs)"
   ]
  },
  {
   "cell_type": "code",
   "execution_count": 148,
   "metadata": {},
   "outputs": [
    {
     "name": "stdout",
     "output_type": "stream",
     "text": [
      "[1]\n"
     ]
    }
   ],
   "source": [
    "target = y[0:1]\n",
    "# target = 0.01\n",
    "print(target)"
   ]
  },
  {
   "cell_type": "code",
   "execution_count": 149,
   "metadata": {},
   "outputs": [
    {
     "name": "stdout",
     "output_type": "stream",
     "text": [
      "[[ 0.15  0.2 ]\n",
      " [ 0.25  0.3 ]]\n",
      "[[ 0.4   0.45]]\n"
     ]
    }
   ],
   "source": [
    "# set up weights array and bias variables\n",
    "Weights1 = np.array([[0.15000,0.20000],[0.25000,0.30000]])\n",
    "bias_1 = 0.35\n",
    "print (Weights1)\n",
    "\n",
    "Weights2 = np.array([[0.40000, 0.450000]])\n",
    "bias_2 = 0.6\n",
    "print (Weights2)"
   ]
  },
  {
   "cell_type": "code",
   "execution_count": 150,
   "metadata": {},
   "outputs": [
    {
     "name": "stdout",
     "output_type": "stream",
     "text": [
      "[ 0.67764416  0.72933004]\n",
      "0.768392436214\n"
     ]
    }
   ],
   "source": [
    "# FORWARD PROPAGATION USING FUNCTIONS\n",
    "# do the above using a function\n",
    "# convert calculations to function for hidden layer\n",
    "def get_sigmoid_output(weights, input, bias):\n",
    "    hidden_layer = weights * inputs\n",
    "    hidden_layer = np.sum(hidden_layer, axis=1) + bias\n",
    "    hidden_layer = 1/(1+np.exp(-hidden_layer))\n",
    "    print (hidden_layer)\n",
    "    return hidden_layer;\n",
    "\n",
    "def get_output(sigmoid_out, weights, bias):\n",
    "    output = (sigmoid_out*weights)\n",
    "    output = 1/(1+np.exp(-(np.sum(output)+bias)))\n",
    "    print(output)\n",
    "    return;\n",
    "\n",
    "# test get_sigmoid_output \n",
    "hidden_layer = get_sigmoid_output(Weights1, inputs, bias_1)\n",
    "\n",
    "# test get_output\n",
    "get_output(hidden_layer, Weights2, bias_2)\n"
   ]
  },
  {
   "cell_type": "code",
   "execution_count": 151,
   "metadata": {},
   "outputs": [
    {
     "name": "stdout",
     "output_type": "stream",
     "text": [
      "[ 0.03090966]\n"
     ]
    }
   ],
   "source": [
    "# get the error \n",
    "# error_o = (0.5*(target - output)**2)\n",
    "# print(error_o)\n",
    "\n",
    "#convert to a function\n",
    "# I think this needs to change to accept a numpy array as well\n",
    "# we should end up with a data frame we can plot against the number of executions\n",
    "def get_error(t, o):\n",
    "    error_o = (0.5*(t - o)**2)\n",
    "    print(error_o)\n",
    "    return;\n",
    "\n",
    "# call error function\n",
    "get_error(target, output)"
   ]
  },
  {
   "cell_type": "code",
   "execution_count": 152,
   "metadata": {},
   "outputs": [
    {
     "name": "stdout",
     "output_type": "stream",
     "text": [
      "[-0.24863493]\n",
      "0.186815601809\n",
      "[-0.03147582 -0.03387657]\n"
     ]
    }
   ],
   "source": [
    "# START OF BACK PROPAGATION WITH FUNCTIONS\n",
    "# calculate derivative of error at output layer\n",
    "\n",
    "# deriv_wrt_out = -(target - output)\n",
    "# change above to function\n",
    "def deltaErr_wrt_out(targ, outp):\n",
    "    result = -(targ - outp)\n",
    "    return result;    \n",
    "\n",
    "#test function deltaErr_wrt_out\n",
    "deltaErr_out = deltaErr_wrt_out(target, output)\n",
    "print(deltaErr_out)\n",
    "\n",
    "# calculate the derivation of the error output wrt the net\n",
    "# derivout_wrt_net = output*(1-output)\n",
    "# change above to function\n",
    "def deltaOut_wrt_net(outp):\n",
    "    result = output*(1-output)\n",
    "    return result;   \n",
    "\n",
    "#test function\n",
    "deltaOut_net = deltaOut_wrt_net(output)\n",
    "print(deltaOut_net)\n",
    "\n",
    "# change above to function\n",
    "# calculate derivative of error wrt to output layer weight OLW_Deriv\n",
    "def deltaErr_ow(deriv_wrt_out, derivout_wrt_net, activation):\n",
    "    OLW_Deriv = deriv_wrt_out*derivout_wrt_net*activation\n",
    "   # print(OLW_Deriv)\n",
    "    return OLW_Deriv;\n",
    "\n",
    "deltaErrtot_ow = deltaErr_ow(deltaErr_out, deltaOut_net, hidden_layer)\n",
    "print(deltaErrtot_ow)\n",
    "\n",
    "# END OF BACK PROPAGATION FOR OUTPUT LAYER\n"
   ]
  },
  {
   "cell_type": "code",
   "execution_count": 153,
   "metadata": {},
   "outputs": [
    {
     "name": "stdout",
     "output_type": "stream",
     "text": [
      "[[-0.01857955 -0.020902  ]]\n",
      "[ 0.21844255  0.19740773]\n",
      "[[-0.00060878 -0.00082524]\n",
      " [-0.00101464 -0.00123786]]\n"
     ]
    }
   ],
   "source": [
    "# START BACK PROPAGATION OF HIDDEN LAYER\n",
    "# calculate derivative of error at hidden layer\n",
    "\n",
    "\n",
    "# deriv_out_wrt_hL =  Weights2 * deriv_wrt_out *derivout_wrt_net\n",
    "# print (deriv_out_wrt_hL)\n",
    "# convert above to function\n",
    "def deltaOut_hL(deriv_wrt_out, derivout_wrt_net, weights):\n",
    "    deriv_out_wrt_hL = deriv_wrt_out *derivout_wrt_net *  weights\n",
    "    return deriv_out_wrt_hL;\n",
    "\n",
    "# test function deltaOut_hL\n",
    "deltaErrOut_hL = deltaOut_hL(deltaErr_out, deltaOut_net, Weights2)\n",
    "print(deltaErrOut_hL)\n",
    "\n",
    "# deriv_out_wrt_nethL = activation*(1-activation)\n",
    "# convert above to function\n",
    "def deltaOut_netHL(activation):\n",
    "    activation = activation*(1-activation)\n",
    "    return activation;\n",
    "    \n",
    "#test function \n",
    "deltaErrOut_netHL = deltaOut_netHL(hidden_layer)\n",
    "print(deltaErrOut_netHL)\n",
    "\n",
    "# deriv_wrt_wi = deriv_out_wrt_hL*deriv_out_wrt_nethL*Weights1\n",
    "# convert above to function\n",
    "def deltaErr_wi(deriv_out_wrt_hL, deriv_out_wrt_nethL, weights):\n",
    "    deriv_wrt_wi = deriv_out_wrt_hL*deriv_out_wrt_nethL*weights\n",
    "    return deriv_wrt_wi;\n",
    "\n",
    "deltaErrH_wi = deltaErr_wi(deltaErrOut_hL, deltaErrOut_netHL, Weights1)\n",
    "print(deltaErrH_wi)"
   ]
  },
  {
   "cell_type": "code",
   "execution_count": 154,
   "metadata": {
    "collapsed": true
   },
   "outputs": [],
   "source": [
    "# convert the above to a function\n",
    "def calc_adjusted_weights(W, deriv):\n",
    "    W = W - (alpha*deriv)\n",
    "    return W;"
   ]
  },
  {
   "cell_type": "code",
   "execution_count": 155,
   "metadata": {},
   "outputs": [
    {
     "name": "stdout",
     "output_type": "stream",
     "text": [
      "Weights2 before: [[ 0.4   0.45]]\n",
      "Weights2 after: [[ 0.41573791  0.46693828]]\n",
      "Weights1 before: [[ 0.15  0.2 ]\n",
      " [ 0.25  0.3 ]]\n",
      "Weights1 after: [[ 0.15030439  0.20041262]\n",
      " [ 0.25050732  0.30061893]]\n"
     ]
    }
   ],
   "source": [
    "# same calculation as above but with Weights matrix \n",
    "# calculate adjusted weights using function\n",
    "print (\"Weights2 before:\", Weights2)\n",
    "Weights2 = calc_adjusted_weights(Weights2, deltaErrtot_ow)\n",
    "print (\"Weights2 after:\",Weights2)\n",
    "print (\"Weights1 before:\",Weights1)\n",
    "Weights1 = calc_adjusted_weights(Weights1, deltaErrH_wi)\n",
    "print (\"Weights1 after:\",Weights1)"
   ]
  },
  {
   "cell_type": "code",
   "execution_count": null,
   "metadata": {
    "collapsed": true
   },
   "outputs": [],
   "source": []
  }
 ],
 "metadata": {
  "kernelspec": {
   "display_name": "Python 3",
   "language": "python",
   "name": "python3"
  },
  "language_info": {
   "codemirror_mode": {
    "name": "ipython",
    "version": 3
   },
   "file_extension": ".py",
   "mimetype": "text/x-python",
   "name": "python",
   "nbconvert_exporter": "python",
   "pygments_lexer": "ipython3",
   "version": "3.6.3"
  }
 },
 "nbformat": 4,
 "nbformat_minor": 2
}
