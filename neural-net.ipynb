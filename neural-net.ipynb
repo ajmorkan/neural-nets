{
 "cells": [
  {
   "cell_type": "code",
   "execution_count": 80,
   "metadata": {
    "collapsed": true
   },
   "outputs": [],
   "source": [
    "# Package imports\n",
    "import matplotlib\n",
    "import matplotlib.pyplot as plt\n",
    "import sklearn\n",
    "import sklearn.datasets\n",
    "import pandas as pd\n",
    "import numpy as np\n",
    "from decimal import Decimal\n"
   ]
  },
  {
   "cell_type": "code",
   "execution_count": 61,
   "metadata": {},
   "outputs": [
    {
     "name": "stdout",
     "output_type": "stream",
     "text": [
      "len(X): 400\n",
      "len(X[0]): 2\n",
      "len(X[:,0]): 400\n",
      "X: nsamples = 400 , nattribs = 2\n"
     ]
    }
   ],
   "source": [
    "# Use pandas to read the CSV file as a dataframe\n",
    "df = pd.read_csv(\"moons400.csv\")\n",
    "# The y values are those labelled 'Class': extract their values\n",
    "y = df['Class'].values\n",
    "\n",
    "# The x values are all other columns\n",
    "del df['Class']    # drop the 'Class' column from the dataframe\n",
    "X = df.as_matrix() # convert the remaining columns to a numpy array\n",
    "# Some examples of working with the data, to look at rows/columns\n",
    "print (\"len(X):\", len(X))            # outer array: one per sample\n",
    "print (\"len(X[0]):\", len(X[0]))      # each inner array is the attributes of one sample\n",
    "print (\"len(X[:,0]):\", len(X[:,0]))  # select column 0 from array\n",
    "\n",
    "# np.shape returns all dimensions of the array\n",
    "(nsamples, nattribs) = np.shape(X)\n",
    "print (\"X: nsamples =\", nsamples, \", nattribs =\", nattribs)"
   ]
  },
  {
   "cell_type": "code",
   "execution_count": 62,
   "metadata": {},
   "outputs": [
    {
     "name": "stdout",
     "output_type": "stream",
     "text": [
      "datasubset: dsamples = 1 , dattribs = 2\n",
      "[[ 2.07106946  0.41152931]]\n"
     ]
    }
   ],
   "source": [
    "datasubset_x = X[0:1]\n",
    "(dsamples, dattribs) = np.shape(datasubset_x)\n",
    "print(\"datasubset: dsamples =\", dsamples, \", dattribs =\", dattribs)\n",
    "print(datasubset_x)"
   ]
  },
  {
   "cell_type": "code",
   "execution_count": 73,
   "metadata": {},
   "outputs": [
    {
     "name": "stdout",
     "output_type": "stream",
     "text": [
      "[[ 0.05  0.1 ]]\n"
     ]
    }
   ],
   "source": [
    "inputs = datasubset_x\n",
    "inputs[0,0] = 0.05\n",
    "inputs[0,1] = 0.1\n",
    "print(inputs)"
   ]
  },
  {
   "cell_type": "code",
   "execution_count": 64,
   "metadata": {},
   "outputs": [
    {
     "name": "stdout",
     "output_type": "stream",
     "text": [
      "0.01\n"
     ]
    }
   ],
   "source": [
    "# target = y[0:1]\n",
    "target = 0.01\n",
    "print(target)"
   ]
  },
  {
   "cell_type": "code",
   "execution_count": 91,
   "metadata": {},
   "outputs": [
    {
     "name": "stdout",
     "output_type": "stream",
     "text": [
      "[[0.15, 0.2], [0.25, 0.3]]\n",
      "[[ 0.0075  0.02  ]\n",
      " [ 0.0125  0.03  ]]\n",
      "[ 0.02  0.05]\n",
      "0.3775\n",
      "0.3925\n",
      "0.593269992107\n",
      "0.59688437826\n",
      "0.751365069552\n"
     ]
    }
   ],
   "source": [
    "# forward propagation for 1 record\n",
    "datasubset_x\n",
    "# result = [[0]],[0]]\n",
    "\n",
    "W11_1 = 0.15\n",
    "W12_1 = 0.2\n",
    "W21_1 = 0.25\n",
    "W22_1 = 0.3\n",
    "\n",
    "b1_1 = 0.35000\n",
    "\n",
    "\n",
    "W11_2 = 0.4\n",
    "W12_2 = 0.45\n",
    "b_2 = 0.6\n",
    "\n",
    "# print(datasubset_x[0,1])\n",
    "\n",
    "\n",
    "\n",
    "a1_2 = datasubset_x[0,0]*W11_1 + datasubset_x[0,1]*W12_1 + b1_1\n",
    "a2_2 = datasubset_x[0,0]*W21_1 + datasubset_x[0,1]*W22_1 + b1_1\n",
    "print( a1_2)\n",
    "print (a2_2)\n",
    "\n",
    "a1_2 = 1/(1+np.exp(-a1_2))\n",
    "a2_2 = 1/(1+np.exp(-a2_2))\n",
    "print(a1_2)\n",
    "print(a2_2)\n",
    "\n",
    "output = 1/(1+np.exp(-(W11_2*a1_2 + W12_2*a2_2 + b_2)))\n",
    "\n",
    "print( output)"
   ]
  },
  {
   "cell_type": "code",
   "execution_count": 103,
   "metadata": {},
   "outputs": [
    {
     "name": "stdout",
     "output_type": "stream",
     "text": [
      "[[0.15, 0.2], [0.25, 0.3]]\n",
      "[[ 0.0075  0.02  ]\n",
      " [ 0.0125  0.03  ]]\n",
      "[ 0.37  0.4 ]\n",
      "[ 0.59145898  0.59868766]\n",
      "0.751381335486\n"
     ]
    }
   ],
   "source": [
    "# do the above using matrix multiplication\n",
    "Weights1 = [[0.15000,0.20000],[0.25000,0.30000]]\n",
    "bias_1 = 0.35\n",
    "print (Weights1)\n",
    "\n",
    "Weights2 = [0.4, 0.45]\n",
    "bias_2 = 0.6\n",
    "\n",
    "# trying to get it working using matrix multiplication and addition\n",
    "\n",
    "# hidden = np.array(Weights1*inputs)\n",
    "hidden = Weights1*inputs\n",
    "print(hidden)\n",
    "\n",
    "\n",
    "# when I sum the columns its rounding the value so losing accuracy\n",
    "hidden = sum(hidden)+bias_1  #  need to get 4 decimal places here\n",
    "print(hidden)\n",
    "\n",
    "activation = 1/(1+np.exp(-hidden))\n",
    "print(activation)\n",
    "\n",
    "output = (activation*Weights2)\n",
    "output = 1/(1+np.exp(-(sum(output)+bias_2)))\n",
    "print(output)\n"
   ]
  },
  {
   "cell_type": "code",
   "execution_count": 66,
   "metadata": {},
   "outputs": [
    {
     "name": "stdout",
     "output_type": "stream",
     "text": [
      "0.274811083176\n"
     ]
    }
   ],
   "source": [
    "# get the error \n",
    "error_o = (0.5*(target - output)**2)\n",
    "print(error_o)"
   ]
  },
  {
   "cell_type": "code",
   "execution_count": 67,
   "metadata": {
    "scrolled": true
   },
   "outputs": [
    {
     "name": "stdout",
     "output_type": "stream",
     "text": [
      "0.741365069552\n",
      "0.186815601809\n",
      "0.0821670405642\n",
      "0.0826676278475\n"
     ]
    }
   ],
   "source": [
    "# calculate derivative of error at output layer\n",
    "deriv_wrt_out = -(target - output)\n",
    "derivout_wrt_net = output*(1-output)\n",
    "deriv_wa11 = deriv_wrt_out*derivout_wrt_net*a1_2\n",
    "deriv_wa12 = deriv_wrt_out*derivout_wrt_net*a2_2\n",
    "print(deriv_wrt_out)\n",
    "print(derivout_wrt_net)\n",
    "print(deriv_wa11)\n",
    "print(deriv_wa12)"
   ]
  },
  {
   "cell_type": "code",
   "execution_count": 68,
   "metadata": {},
   "outputs": [
    {
     "name": "stdout",
     "output_type": "stream",
     "text": [
      "0.000668396021144\n",
      "0.00133679204229\n",
      "0.000749803774445\n",
      "0.00149960754889\n"
     ]
    }
   ],
   "source": [
    "# calculate derivative of error at hidden layer\n",
    "\n",
    "deriv_out1_wrt_h1 = deriv_wrt_out*derivout_wrt_net*W11_2\n",
    "deriv_outh1_wrt_neth1 = a1_2*(1-a1_2)\n",
    "deriv_net_wrt_w1 = datasubset_x[0,0]\n",
    "\n",
    "derivtot_wrt_w1 = deriv_out1_wrt_h1*deriv_outh1_wrt_neth1*deriv_net_wrt_w1\n",
    "\n",
    "print(derivtot_wrt_w1)\n",
    "\n",
    "deriv_out1_wrt_h1 = deriv_wrt_out*derivout_wrt_net*W11_2\n",
    "deriv_outh1_wrt_neth1 = a1_2*(1-a1_2)\n",
    "deriv_net_wrt_w2 = datasubset_x[0,1]\n",
    "\n",
    "derivtot_wrt_w2 = deriv_out1_wrt_h1*deriv_outh1_wrt_neth1*deriv_net_wrt_w2\n",
    "\n",
    "print(derivtot_wrt_w2)\n",
    "\n",
    "deriv_out2_wrt_h2 = deriv_wrt_out*derivout_wrt_net*W12_2\n",
    "deriv_outh2_wrt_neth2 = a2_2*(1-a2_2)\n",
    "deriv_net_wrt_w3 = datasubset_x[0,0]\n",
    "\n",
    "derivtot_wrt_w3 = deriv_out2_wrt_h2*deriv_outh2_wrt_neth2*deriv_net_wrt_w3\n",
    "\n",
    "print(derivtot_wrt_w3)\n",
    "\n",
    "deriv_out2_wrt_h2 = deriv_wrt_out*derivout_wrt_net*W12_2\n",
    "deriv_outh2_wrt_neth2 = a2_2*(1-a2_2)\n",
    "deriv_net_wrt_w4 = datasubset_x[0,1]\n",
    "\n",
    "derivtot_wrt_w4 = deriv_out2_wrt_h2*deriv_outh2_wrt_neth2*deriv_net_wrt_w4\n",
    "\n",
    "print(derivtot_wrt_w4)\n"
   ]
  },
  {
   "cell_type": "code",
   "execution_count": 69,
   "metadata": {},
   "outputs": [
    {
     "name": "stdout",
     "output_type": "stream",
     "text": [
      "0.358916479718\n",
      "0.408666186076\n",
      "0.149665801989\n",
      "0.199331603979\n",
      "0.249625098113\n",
      "0.299250196226\n"
     ]
    }
   ],
   "source": [
    "# get the the adjusted weight of the output node\n",
    "# using the derivative of the error\n",
    "\n",
    "alpha = 0.5 # learning rate\n",
    "\n",
    "W11_2 = W11_2 - (alpha*deriv_wa11)\n",
    "W12_2 = W12_2 - (alpha*deriv_wa12)\n",
    "\n",
    "print (W11_2)\n",
    "print (W12_2)\n",
    "\n",
    "W11_1 = W11_1 - (alpha*derivtot_wrt_w1)\n",
    "print (W11_1)\n",
    "\n",
    "W12_1 = W12_1 - (alpha*derivtot_wrt_w2)\n",
    "print (W12_1)\n",
    "\n",
    "W21_1 = W21_1 - (alpha*derivtot_wrt_w3)\n",
    "print (W21_1)\n",
    "\n",
    "W22_1 = W22_1 - (alpha*derivtot_wrt_w4)\n",
    "print (W22_1)"
   ]
  },
  {
   "cell_type": "code",
   "execution_count": null,
   "metadata": {
    "collapsed": true
   },
   "outputs": [],
   "source": []
  }
 ],
 "metadata": {
  "kernelspec": {
   "display_name": "Python 3",
   "language": "python",
   "name": "python3"
  },
  "language_info": {
   "codemirror_mode": {
    "name": "ipython",
    "version": 3
   },
   "file_extension": ".py",
   "mimetype": "text/x-python",
   "name": "python",
   "nbconvert_exporter": "python",
   "pygments_lexer": "ipython3",
   "version": "3.6.3"
  }
 },
 "nbformat": 4,
 "nbformat_minor": 2
}
