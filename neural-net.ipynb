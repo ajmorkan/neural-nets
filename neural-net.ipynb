{
 "cells": [
  {
   "cell_type": "code",
   "execution_count": 2,
   "metadata": {
    "collapsed": true
   },
   "outputs": [],
   "source": [
    "# Package imports\n",
    "import matplotlib\n",
    "import matplotlib.pyplot as plt\n",
    "import sklearn\n",
    "import sklearn.datasets\n",
    "import pandas as pd\n",
    "import numpy as np\n"
   ]
  },
  {
   "cell_type": "code",
   "execution_count": 3,
   "metadata": {},
   "outputs": [
    {
     "name": "stdout",
     "output_type": "stream",
     "text": [
      "len(X): 400\n",
      "len(X[0]): 2\n",
      "len(X[:,0]): 400\n",
      "X: nsamples = 400 , nattribs = 2\n"
     ]
    }
   ],
   "source": [
    "# Use pandas to read the CSV file as a dataframe\n",
    "df = pd.read_csv(\"moons400.csv\")\n",
    "# The y values are those labelled 'Class': extract their values\n",
    "y = df['Class'].values\n",
    "\n",
    "# The x values are all other columns\n",
    "del df['Class']    # drop the 'Class' column from the dataframe\n",
    "X = df.as_matrix() # convert the remaining columns to a numpy array\n",
    "# Some examples of working with the data, to look at rows/columns\n",
    "print (\"len(X):\", len(X))            # outer array: one per sample\n",
    "print (\"len(X[0]):\", len(X[0]))      # each inner array is the attributes of one sample\n",
    "print (\"len(X[:,0]):\", len(X[:,0]))  # select column 0 from array\n",
    "\n",
    "# np.shape returns all dimensions of the array\n",
    "(nsamples, nattribs) = np.shape(X)\n",
    "print (\"X: nsamples =\", nsamples, \", nattribs =\", nattribs)"
   ]
  },
  {
   "cell_type": "code",
   "execution_count": 4,
   "metadata": {},
   "outputs": [
    {
     "name": "stdout",
     "output_type": "stream",
     "text": [
      "datasubset: dsamples = 1 , dattribs = 2\n",
      "[[ 2.07106946  0.41152931]]\n"
     ]
    }
   ],
   "source": [
    "datasubset_x = X[0:1]\n",
    "(dsamples, dattribs) = np.shape(datasubset_x)\n",
    "print(\"datasubset: dsamples =\", dsamples, \", dattribs =\", dattribs)\n",
    "print(datasubset_x)\n"
   ]
  },
  {
   "cell_type": "code",
   "execution_count": 5,
   "metadata": {},
   "outputs": [
    {
     "name": "stdout",
     "output_type": "stream",
     "text": [
      "[1]\n"
     ]
    }
   ],
   "source": [
    "datasubset_y = y[0:1]\n",
    "print(datasubset_y)"
   ]
  },
  {
   "cell_type": "code",
   "execution_count": 6,
   "metadata": {
    "collapsed": true
   },
   "outputs": [],
   "source": [
    "#layer 1 weights\n",
    "W11_1 = -0.1\n",
    "W12_1 = -0.1\n",
    "W21_1 = -0.1\n",
    "W22_1 = -0.1\n",
    "#layer 1 bias\n",
    "b1_1 = 1\n",
    "b2_1 = 0.9\n",
    "#layer 2 weights\n",
    "W11_2 = 0.1\n",
    "W12_2 = 0.1\n",
    "#layer 2 bias\n",
    "b_2 = 0.5\n"
   ]
  },
  {
   "cell_type": "code",
   "execution_count": 15,
   "metadata": {},
   "outputs": [
    {
     "name": "stdout",
     "output_type": "stream",
     "text": [
      "a1_2:  0.751740122949\n",
      "a1_2exp:  -1.12068706395\n",
      "a2_2:  0.651740122949\n",
      "a2_2exp:  -0.918877007408\n",
      "a1_3:  0.296043592864\n",
      "a1_3exp:  -0.344528767414\n"
     ]
    }
   ],
   "source": [
    "# a1_2 = f(w11_1*x1 + w12_1*x2 +b1_1 )\n",
    "#print(datasubset_x[0,0])\n",
    "\n",
    "a1_2 = (W11_1 * datasubset_x[0,0] + W12_1 * datasubset_x[0,1] + b1_1 * 1)\n",
    "print(\"a1_2: \",a1_2)\n",
    "\n",
    "a1_2 = 1/1 - np.exp(a1_2)\n",
    "print(\"a1_2exp: \",a1_2)\n",
    "\n",
    "a2_2 = (W21_1 * datasubset_x[0,0] + W22_1 * datasubset_x[0,1] + b2_1 * 1)\n",
    "print(\"a2_2: \",a2_2)\n",
    "a2_2 = 1/1 - np.exp(a2_2)\n",
    "print(\"a2_2exp: \",a2_2)\n",
    "\n",
    "\n",
    "a1_3 = (W11_2 * a1_2 + W12_2 * a2_2 + b_2 * 1 )\n",
    "print(\"a1_3: \",a1_3)\n",
    "#hW,b(X) = a1_3\n",
    "a1_3 = 1/1 - np.exp(a1_3)\n",
    "print(\"a1_3exp: \",a1_3)\n"
   ]
  },
  {
   "cell_type": "code",
   "execution_count": 13,
   "metadata": {},
   "outputs": [
    {
     "name": "stdout",
     "output_type": "stream",
     "text": [
      "SSE:  [ 0.9038788]\n"
     ]
    }
   ],
   "source": [
    "# Total Error SSE = 1/2(Y-YP)^2\n",
    "sse = 1/2 * np.power((datasubset_y - a1_3), 2)\n",
    "print(\"SSE: \",sse)\n",
    "\n",
    "# ∂SSE/∂a = – (Y-YP)\n",
    "# ∂SSE/∂b = – (Y-YP)X"
   ]
  },
  {
   "cell_type": "code",
   "execution_count": null,
   "metadata": {
    "collapsed": true
   },
   "outputs": [],
   "source": [
    "#The Backwards back propagation\n"
   ]
  }
 ],
 "metadata": {
  "kernelspec": {
   "display_name": "Python 3",
   "language": "python",
   "name": "python3"
  },
  "language_info": {
   "codemirror_mode": {
    "name": "ipython",
    "version": 3
   },
   "file_extension": ".py",
   "mimetype": "text/x-python",
   "name": "python",
   "nbconvert_exporter": "python",
   "pygments_lexer": "ipython3",
   "version": "3.6.3"
  }
 },
 "nbformat": 4,
 "nbformat_minor": 2
}
